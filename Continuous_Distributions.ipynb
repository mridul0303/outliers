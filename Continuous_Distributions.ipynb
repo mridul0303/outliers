{
 "cells": [
  {
   "cell_type": "code",
   "execution_count": null,
   "metadata": {
    "id": "4TeUMcxkdPEn"
   },
   "outputs": [],
   "source": [
    "from scipy.stats import uniform\n",
    "from scipy.stats import norm\n",
    "from scipy.stats import chi2\n",
    "from scipy.stats import t\n",
    "from scipy.stats import f"
   ]
  },
  {
   "cell_type": "markdown",
   "metadata": {
    "id": "QJkw6bSgiaHN"
   },
   "source": [
    "General syntax: first argument is x or q, second argument is parameter1, third argument is parameter2 and so on."
   ]
  },
  {
   "cell_type": "markdown",
   "metadata": {
    "id": "g4Ot5LT_i2V3"
   },
   "source": [
    "# Uniform Distribution"
   ]
  },
  {
   "cell_type": "code",
   "execution_count": null,
   "metadata": {
    "colab": {
     "base_uri": "https://localhost:8080/"
    },
    "id": "mLozBlrcfkd3",
    "outputId": "56e8c9e6-b601-4e04-bd66-01d598b0ae41"
   },
   "outputs": [
    {
     "data": {
      "text/plain": [
       "0.9"
      ]
     },
     "execution_count": 11,
     "metadata": {
      "tags": []
     },
     "output_type": "execute_result"
    }
   ],
   "source": [
    "# Given the value of x, find P(X<x)\n",
    "\n",
    "uniform.cdf(8, 0, 10)"
   ]
  },
  {
   "cell_type": "code",
   "execution_count": null,
   "metadata": {
    "colab": {
     "base_uri": "https://localhost:8080/"
    },
    "id": "ioFx4QHVdPmM",
    "outputId": "990b3559-e64c-44e4-f0c2-da67fd87c0f0"
   },
   "outputs": [
    {
     "data": {
      "text/plain": [
       "9.0"
      ]
     },
     "execution_count": 27,
     "metadata": {
      "tags": []
     },
     "output_type": "execute_result"
    }
   ],
   "source": [
    "# Given the value of r, find x such that P(X<x) = r\n",
    "\n",
    "uniform.ppf(0.8, 0, 10)"
   ]
  },
  {
   "cell_type": "markdown",
   "metadata": {
    "id": "aaCybggMi67b"
   },
   "source": [
    "# Normal Distribution"
   ]
  },
  {
   "cell_type": "code",
   "execution_count": null,
   "metadata": {
    "colab": {
     "base_uri": "https://localhost:8080/"
    },
    "id": "4deOsQf1fd25",
    "outputId": "1fdb0ac4-becb-4194-bfcf-07e39b8abaa5"
   },
   "outputs": [
    {
     "data": {
      "text/plain": [
       "0.9750021048517795"
      ]
     },
     "execution_count": 5,
     "metadata": {
      "tags": []
     },
     "output_type": "execute_result"
    }
   ],
   "source": [
    "# Given the value of x, find P(X<x)\n",
    "norm.cdf(1.96, 0, 1)"
   ]
  },
  {
   "cell_type": "code",
   "execution_count": null,
   "metadata": {
    "colab": {
     "base_uri": "https://localhost:8080/"
    },
    "id": "uSw3xJ3lhNyy",
    "outputId": "e13782a2-d566-4c53-f3d4-9c9246e6bec1"
   },
   "outputs": [
    {
     "data": {
      "text/plain": [
       "1.959999999999999"
      ]
     },
     "execution_count": 28,
     "metadata": {
      "tags": []
     },
     "output_type": "execute_result"
    }
   ],
   "source": [
    "# Given the value of r, find x such that P(X<x) = r\n",
    "\n",
    "norm.ppf(0.9750021048517795, 0, 1)"
   ]
  },
  {
   "cell_type": "markdown",
   "metadata": {
    "id": "758mt6w0jAco"
   },
   "source": [
    "# Chi-squared Distribution"
   ]
  },
  {
   "cell_type": "code",
   "execution_count": null,
   "metadata": {
    "colab": {
     "base_uri": "https://localhost:8080/"
    },
    "id": "eheppJFbhUqM",
    "outputId": "056aa10c-094a-4796-a0d8-a0de9eb227de"
   },
   "outputs": [
    {
     "data": {
      "text/plain": [
       "0.2805789962920643"
      ]
     },
     "execution_count": 24,
     "metadata": {
      "tags": []
     },
     "output_type": "execute_result"
    }
   ],
   "source": [
    "# Given the value of x, find P(X<x)\n",
    "\n",
    "chi2.cdf(1.341, 3)"
   ]
  },
  {
   "cell_type": "code",
   "execution_count": null,
   "metadata": {
    "colab": {
     "base_uri": "https://localhost:8080/"
    },
    "id": "Z8dzt0cPjGmP",
    "outputId": "0c409eb0-b74a-468e-a28c-f94f9a1522cd"
   },
   "outputs": [
    {
     "data": {
      "text/plain": [
       "1.341"
      ]
     },
     "execution_count": 26,
     "metadata": {
      "tags": []
     },
     "output_type": "execute_result"
    }
   ],
   "source": [
    "# Given the value of r, find x such that P(X<x) = r\n",
    "\n",
    "chi2.ppf(0.2805789962920643, 3)"
   ]
  },
  {
   "cell_type": "markdown",
   "metadata": {
    "id": "DcJNL6zOjF-G"
   },
   "source": [
    "# t-Distribution"
   ]
  },
  {
   "cell_type": "code",
   "execution_count": null,
   "metadata": {
    "colab": {
     "base_uri": "https://localhost:8080/"
    },
    "id": "GudR8BbZdUTa",
    "outputId": "2fc36582-6141-42b8-fb41-bd3ec3e0f3fd"
   },
   "outputs": [
    {
     "data": {
      "text/plain": [
       "0.9000625642353094"
      ]
     },
     "execution_count": 32,
     "metadata": {
      "tags": []
     },
     "output_type": "execute_result"
    }
   ],
   "source": [
    "# Given the value of x, find P(X<x)\n",
    "\n",
    "t.cdf(1.341, 15)"
   ]
  },
  {
   "cell_type": "code",
   "execution_count": null,
   "metadata": {
    "colab": {
     "base_uri": "https://localhost:8080/"
    },
    "id": "luD2EZjsjUG6",
    "outputId": "9370e814-07db-4220-b575-49a1ea4c24a1"
   },
   "outputs": [
    {
     "data": {
      "text/plain": [
       "1.340999999999999"
      ]
     },
     "execution_count": 33,
     "metadata": {
      "tags": []
     },
     "output_type": "execute_result"
    }
   ],
   "source": [
    "# Given the value of r, find x such that P(X<x) = r\n",
    "\n",
    "stats.t.ppf(0.9000625642353094, 15)"
   ]
  },
  {
   "cell_type": "markdown",
   "metadata": {
    "id": "_FP3s1UCjuld"
   },
   "source": [
    "# F-Distribution"
   ]
  },
  {
   "cell_type": "code",
   "execution_count": null,
   "metadata": {
    "colab": {
     "base_uri": "https://localhost:8080/"
    },
    "id": "IyYXg9mQjlkp",
    "outputId": "0a92e514-cb81-4fc3-e407-4998fb1c3680"
   },
   "outputs": [
    {
     "data": {
      "text/plain": [
       "0.7340322104057266"
      ]
     },
     "execution_count": 35,
     "metadata": {
      "tags": []
     },
     "output_type": "execute_result"
    }
   ],
   "source": [
    "# Given the value of x, find P(X<x)\n",
    "\n",
    "f.cdf(1.341, 15, 20)"
   ]
  },
  {
   "cell_type": "code",
   "execution_count": null,
   "metadata": {
    "colab": {
     "base_uri": "https://localhost:8080/"
    },
    "id": "PkkFrnCUjzhZ",
    "outputId": "d86ee212-ea2b-46f0-9c98-5f2dc6eda557"
   },
   "outputs": [
    {
     "data": {
      "text/plain": [
       "1.3410000000000002"
      ]
     },
     "execution_count": 36,
     "metadata": {
      "tags": []
     },
     "output_type": "execute_result"
    }
   ],
   "source": [
    "# Given the value of r, find x such that P(X<x) = r\n",
    "\n",
    "f.ppf(0.7340322104057266, 15, 20)"
   ]
  },
  {
   "cell_type": "code",
   "execution_count": null,
   "metadata": {
    "id": "_LseVaObkFEd"
   },
   "outputs": [],
   "source": []
  }
 ],
 "metadata": {
  "colab": {
   "collapsed_sections": [],
   "name": "Continuous Distributions.ipynb",
   "provenance": []
  },
  "kernelspec": {
   "display_name": "Python 3",
   "language": "python",
   "name": "python3"
  },
  "language_info": {
   "codemirror_mode": {
    "name": "ipython",
    "version": 3
   },
   "file_extension": ".py",
   "mimetype": "text/x-python",
   "name": "python",
   "nbconvert_exporter": "python",
   "pygments_lexer": "ipython3",
   "version": "3.8.8"
  }
 },
 "nbformat": 4,
 "nbformat_minor": 1
}
